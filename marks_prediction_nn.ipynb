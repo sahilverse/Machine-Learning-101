{
 "cells": [
  {
   "cell_type": "code",
   "execution_count": 1,
   "id": "ce168d82",
   "metadata": {},
   "outputs": [],
   "source": [
    "import pandas as pd\n",
    "\n",
    "import torch\n",
    "from torch.utils.data import TensorDataset,  DataLoader\n",
    "import torch.nn as nn\n",
    "import torch.nn.functional as F\n",
    "\n"
   ]
  },
  {
   "cell_type": "code",
   "execution_count": 2,
   "id": "c50409e0",
   "metadata": {},
   "outputs": [
    {
     "name": "stdout",
     "output_type": "stream",
     "text": [
      "tensor([[ 5.1200],\n",
      "        [11.4600],\n",
      "        [ 9.0500],\n",
      "        [ 7.5900],\n",
      "        [ 2.7200],\n",
      "        [ 2.7200],\n",
      "        [ 1.6400],\n",
      "        [10.5300],\n",
      "        [ 7.6100],\n",
      "        [ 8.7900]]) tensor([[44.4100],\n",
      "        [90.7200],\n",
      "        [78.8400],\n",
      "        [67.5300],\n",
      "        [25.8900],\n",
      "        [28.4900],\n",
      "        [18.1000],\n",
      "        [91.7800],\n",
      "        [64.3500],\n",
      "        [66.4000]])\n"
     ]
    }
   ],
   "source": [
    "df = pd.read_csv('data/student_scores.csv')\n",
    "\n",
    "inputs = torch.tensor(df['hours'].values, dtype=torch.float32).view(-1, 1)\n",
    "targets = torch.tensor(df['marks'].values, dtype=torch.float32).view(-1, 1)\n",
    "\n",
    "print(inputs[:10], targets[:10])"
   ]
  },
  {
   "cell_type": "code",
   "execution_count": 3,
   "id": "20635189",
   "metadata": {},
   "outputs": [
    {
     "data": {
      "text/plain": [
       "(tensor([[ 5.1200],\n",
       "         [11.4600],\n",
       "         [ 9.0500],\n",
       "         [ 7.5900],\n",
       "         [ 2.7200],\n",
       "         [ 2.7200],\n",
       "         [ 1.6400],\n",
       "         [10.5300],\n",
       "         [ 7.6100],\n",
       "         [ 8.7900]]),\n",
       " tensor([[44.4100],\n",
       "         [90.7200],\n",
       "         [78.8400],\n",
       "         [67.5300],\n",
       "         [25.8900],\n",
       "         [28.4900],\n",
       "         [18.1000],\n",
       "         [91.7800],\n",
       "         [64.3500],\n",
       "         [66.4000]]))"
      ]
     },
     "execution_count": 3,
     "metadata": {},
     "output_type": "execute_result"
    }
   ],
   "source": [
    "train_ds = TensorDataset(inputs, targets)\n",
    "\n",
    "train_ds[:10]"
   ]
  },
  {
   "cell_type": "code",
   "execution_count": 4,
   "id": "2630c213",
   "metadata": {},
   "outputs": [],
   "source": [
    "batch_size = 32\n",
    "train_dl = DataLoader(train_ds, batch_size=batch_size, shuffle=True)"
   ]
  },
  {
   "cell_type": "code",
   "execution_count": 5,
   "id": "46bf9845",
   "metadata": {},
   "outputs": [],
   "source": [
    "model = nn.Linear(1, 1)\n",
    "loss_fn = F.mse_loss\n",
    "optimizer = torch.optim.SGD(model.parameters(), lr=1e-5)"
   ]
  },
  {
   "cell_type": "code",
   "execution_count": 12,
   "id": "3031e311",
   "metadata": {},
   "outputs": [
    {
     "name": "stdout",
     "output_type": "stream",
     "text": [
      "Epoch 1000, Loss: 4251.201171875\n",
      "Epoch 2000, Loss: 2597.06201171875\n",
      "Epoch 3000, Loss: 2683.81298828125\n",
      "Epoch 4000, Loss: 3656.96875\n",
      "Epoch 5000, Loss: 1600.524658203125\n",
      "Epoch 6000, Loss: 2496.2109375\n",
      "Epoch 7000, Loss: 3227.865478515625\n",
      "Epoch 8000, Loss: 4177.89013671875\n",
      "Epoch 9000, Loss: 3785.482421875\n",
      "Epoch 10000, Loss: 2086.938720703125\n"
     ]
    }
   ],
   "source": [
    "epochs = 10000\n",
    "for epoch in range(epochs):\n",
    "    for xb, yb in train_dl:\n",
    "        pred = model(xb)\n",
    "        loss = loss_fn(pred, yb) \n",
    "        \n",
    "        loss.backward()\n",
    "        optimizer.zero_grad()\n",
    "        optimizer.step()\n",
    "        \n",
    "    if (epoch+1) % 1000 == 0:\n",
    "        print(f'Epoch {epoch+1}, Loss: {loss.item()}')"
   ]
  },
  {
   "cell_type": "code",
   "execution_count": 10,
   "id": "05de2691",
   "metadata": {},
   "outputs": [
    {
     "data": {
      "text/plain": [
       "tensor([[3.6968],\n",
       "        [7.6199],\n",
       "        [6.1286],\n",
       "        [5.2252],\n",
       "        [2.2117],\n",
       "        [2.2117],\n",
       "        [1.5435],\n",
       "        [7.0444],\n",
       "        [5.2376],\n",
       "        [5.9678]], grad_fn=<SliceBackward0>)"
      ]
     },
     "execution_count": 10,
     "metadata": {},
     "output_type": "execute_result"
    }
   ],
   "source": [
    "preds = model(inputs)\n",
    "preds[:10]"
   ]
  },
  {
   "cell_type": "code",
   "execution_count": 11,
   "id": "624a91b3",
   "metadata": {},
   "outputs": [
    {
     "data": {
      "text/plain": [
       "tensor([[44.4100],\n",
       "        [90.7200],\n",
       "        [78.8400],\n",
       "        [67.5300],\n",
       "        [25.8900],\n",
       "        [28.4900],\n",
       "        [18.1000],\n",
       "        [91.7800],\n",
       "        [64.3500],\n",
       "        [66.4000]])"
      ]
     },
     "execution_count": 11,
     "metadata": {},
     "output_type": "execute_result"
    }
   ],
   "source": [
    "targets[:10]"
   ]
  }
 ],
 "metadata": {
  "kernelspec": {
   "display_name": "pytorch_env",
   "language": "python",
   "name": "python3"
  },
  "language_info": {
   "codemirror_mode": {
    "name": "ipython",
    "version": 3
   },
   "file_extension": ".py",
   "mimetype": "text/x-python",
   "name": "python",
   "nbconvert_exporter": "python",
   "pygments_lexer": "ipython3",
   "version": "3.10.18"
  }
 },
 "nbformat": 4,
 "nbformat_minor": 5
}
