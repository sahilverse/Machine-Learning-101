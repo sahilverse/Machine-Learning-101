{
 "cells": [
  {
   "cell_type": "code",
   "execution_count": 67,
   "id": "09d2f1e4",
   "metadata": {},
   "outputs": [],
   "source": [
    "import pandas as pd\n",
    "import numpy as np\n",
    "\n",
    "from sklearn.model_selection import train_test_split\n",
    "from sklearn.preprocessing import StandardScaler\n",
    "from sklearn.metrics import mean_absolute_error, r2_score\n",
    "\n",
    "import torch\n",
    "import torch.nn as nn\n",
    "import torch.optim as optim\n",
    "from torch.utils.data import TensorDataset, DataLoader"
   ]
  },
  {
   "cell_type": "code",
   "execution_count": 52,
   "id": "82995d09",
   "metadata": {},
   "outputs": [
    {
     "data": {
      "text/html": [
       "<div>\n",
       "<style scoped>\n",
       "    .dataframe tbody tr th:only-of-type {\n",
       "        vertical-align: middle;\n",
       "    }\n",
       "\n",
       "    .dataframe tbody tr th {\n",
       "        vertical-align: top;\n",
       "    }\n",
       "\n",
       "    .dataframe thead th {\n",
       "        text-align: right;\n",
       "    }\n",
       "</style>\n",
       "<table border=\"1\" class=\"dataframe\">\n",
       "  <thead>\n",
       "    <tr style=\"text-align: right;\">\n",
       "      <th></th>\n",
       "      <th>Area</th>\n",
       "      <th>Bedrooms</th>\n",
       "      <th>Age</th>\n",
       "      <th>Price</th>\n",
       "    </tr>\n",
       "  </thead>\n",
       "  <tbody>\n",
       "    <tr>\n",
       "      <th>0</th>\n",
       "      <td>1660</td>\n",
       "      <td>6</td>\n",
       "      <td>24</td>\n",
       "      <td>135800.0</td>\n",
       "    </tr>\n",
       "    <tr>\n",
       "      <th>1</th>\n",
       "      <td>2094</td>\n",
       "      <td>3</td>\n",
       "      <td>29</td>\n",
       "      <td>111700.0</td>\n",
       "    </tr>\n",
       "    <tr>\n",
       "      <th>2</th>\n",
       "      <td>1930</td>\n",
       "      <td>6</td>\n",
       "      <td>24</td>\n",
       "      <td>138100.0</td>\n",
       "    </tr>\n",
       "    <tr>\n",
       "      <th>3</th>\n",
       "      <td>1895</td>\n",
       "      <td>4</td>\n",
       "      <td>1</td>\n",
       "      <td>144500.0</td>\n",
       "    </tr>\n",
       "    <tr>\n",
       "      <th>4</th>\n",
       "      <td>2438</td>\n",
       "      <td>2</td>\n",
       "      <td>2</td>\n",
       "      <td>137600.0</td>\n",
       "    </tr>\n",
       "    <tr>\n",
       "      <th>5</th>\n",
       "      <td>2969</td>\n",
       "      <td>2</td>\n",
       "      <td>6</td>\n",
       "      <td>161400.0</td>\n",
       "    </tr>\n",
       "    <tr>\n",
       "      <th>6</th>\n",
       "      <td>1266</td>\n",
       "      <td>5</td>\n",
       "      <td>20</td>\n",
       "      <td>93700.0</td>\n",
       "    </tr>\n",
       "    <tr>\n",
       "      <th>7</th>\n",
       "      <td>2038</td>\n",
       "      <td>5</td>\n",
       "      <td>17</td>\n",
       "      <td>147600.0</td>\n",
       "    </tr>\n",
       "    <tr>\n",
       "      <th>8</th>\n",
       "      <td>1130</td>\n",
       "      <td>2</td>\n",
       "      <td>2</td>\n",
       "      <td>96100.0</td>\n",
       "    </tr>\n",
       "    <tr>\n",
       "      <th>9</th>\n",
       "      <td>2282</td>\n",
       "      <td>5</td>\n",
       "      <td>9</td>\n",
       "      <td>148900.0</td>\n",
       "    </tr>\n",
       "  </tbody>\n",
       "</table>\n",
       "</div>"
      ],
      "text/plain": [
       "   Area  Bedrooms  Age     Price\n",
       "0  1660         6   24  135800.0\n",
       "1  2094         3   29  111700.0\n",
       "2  1930         6   24  138100.0\n",
       "3  1895         4    1  144500.0\n",
       "4  2438         2    2  137600.0\n",
       "5  2969         2    6  161400.0\n",
       "6  1266         5   20   93700.0\n",
       "7  2038         5   17  147600.0\n",
       "8  1130         2    2   96100.0\n",
       "9  2282         5    9  148900.0"
      ]
     },
     "execution_count": 52,
     "metadata": {},
     "output_type": "execute_result"
    }
   ],
   "source": [
    "df = pd.read_csv(\"../data/house_prices.csv\")\n",
    "\n",
    "df.head(10)"
   ]
  },
  {
   "cell_type": "markdown",
   "id": "99552f80",
   "metadata": {},
   "source": [
    "# Features (X) and Target (y)\n"
   ]
  },
  {
   "cell_type": "code",
   "execution_count": 53,
   "id": "9d89904b",
   "metadata": {},
   "outputs": [],
   "source": [
    "X = df.drop('Price', axis=1).values\n",
    "y = df['Price'].values.reshape(-1, 1)"
   ]
  },
  {
   "cell_type": "markdown",
   "id": "db575d6f",
   "metadata": {},
   "source": [
    "# Scale features & target\n"
   ]
  },
  {
   "cell_type": "code",
   "execution_count": 54,
   "id": "0c25d87e",
   "metadata": {},
   "outputs": [],
   "source": [
    "scaler_X = StandardScaler()\n",
    "scaler_y = StandardScaler()\n",
    "\n",
    "X_scaled = scaler_X.fit_transform(X)\n",
    "y_scaled = scaler_y.fit_transform(y)\n"
   ]
  },
  {
   "cell_type": "markdown",
   "id": "0db712a0",
   "metadata": {},
   "source": [
    "# Train/test split\n"
   ]
  },
  {
   "cell_type": "code",
   "execution_count": 55,
   "id": "a3fba60a",
   "metadata": {},
   "outputs": [],
   "source": [
    "X_train, X_test, y_train, y_test = train_test_split(X_scaled, y_scaled, test_size=0.2, random_state=42)"
   ]
  },
  {
   "cell_type": "markdown",
   "id": "6a687e0f",
   "metadata": {},
   "source": [
    "# Convert to tensors\n"
   ]
  },
  {
   "cell_type": "code",
   "execution_count": 56,
   "id": "64e77b43",
   "metadata": {},
   "outputs": [],
   "source": [
    "X_train = torch.tensor(X_train, dtype=torch.float32)\n",
    "y_train = torch.tensor(y_train, dtype=torch.float32)\n",
    "\n",
    "X_test = torch.tensor(X_test, dtype=torch.float32)\n",
    "y_test = torch.tensor(y_test, dtype=torch.float32)"
   ]
  },
  {
   "cell_type": "markdown",
   "id": "486e1be6",
   "metadata": {},
   "source": [
    "# Create DataLoader for batch training\n"
   ]
  },
  {
   "cell_type": "code",
   "execution_count": 57,
   "id": "f6662841",
   "metadata": {},
   "outputs": [],
   "source": [
    "batch_size = 32\n",
    "train_dataset = TensorDataset(X_train, y_train)\n",
    "train_loader = DataLoader(train_dataset, batch_size=batch_size, shuffle=True)"
   ]
  },
  {
   "cell_type": "markdown",
   "id": "83e5251c",
   "metadata": {},
   "source": [
    "# Define Model\n"
   ]
  },
  {
   "cell_type": "code",
   "execution_count": 58,
   "id": "e4a72730",
   "metadata": {},
   "outputs": [],
   "source": [
    "class HousePriceModel(nn.Module):\n",
    "    def __init__(self, input_size):\n",
    "        super(HousePriceModel, self).__init__()\n",
    "        self.model = nn.Sequential(\n",
    "            nn.Linear(input_size, 64),\n",
    "            nn.ReLU(),\n",
    "            nn.Linear(64, 32),\n",
    "            nn.ReLU(),\n",
    "            nn.Linear(32, 1)\n",
    "        )\n",
    "\n",
    "    def forward(self, x):\n",
    "        return self.model(x)"
   ]
  },
  {
   "cell_type": "code",
   "execution_count": 59,
   "id": "fc854a06",
   "metadata": {},
   "outputs": [],
   "source": [
    "model = HousePriceModel(input_size=X_train.shape[1])"
   ]
  },
  {
   "cell_type": "markdown",
   "id": "fa472474",
   "metadata": {},
   "source": [
    "# Loss function, Optimizer and Scheduler"
   ]
  },
  {
   "cell_type": "code",
   "execution_count": 65,
   "id": "42173ec6",
   "metadata": {},
   "outputs": [],
   "source": [
    "criterion = nn.MSELoss()\n",
    "optimizer = optim.Adam(model.parameters(), lr=0.001,  weight_decay=1e-5)\n",
    "scheduler = optim.lr_scheduler.ReduceLROnPlateau(optimizer, mode=\"min\", factor=0.5, patience=10)"
   ]
  },
  {
   "cell_type": "markdown",
   "id": "6333f8eb",
   "metadata": {},
   "source": [
    "# Training loop with batches"
   ]
  },
  {
   "cell_type": "code",
   "execution_count": 68,
   "id": "f80c02c8",
   "metadata": {},
   "outputs": [
    {
     "name": "stdout",
     "output_type": "stream",
     "text": [
      "Epoch    1 | Train Loss: 0.04848 | Val Loss: 0.08470 | LR: 0.001000\n",
      "Epoch    2 | Train Loss: 0.04833 | Val Loss: 0.08388 | LR: 0.001000\n",
      "Epoch    6 | Train Loss: 0.04731 | Val Loss: 0.08335 | LR: 0.001000\n",
      "Epoch   10 | Train Loss: 0.04740 | Val Loss: 0.08238 | LR: 0.001000\n",
      "Epoch   20 | Train Loss: 0.04683 | Val Loss: 0.08361 | LR: 0.001000\n",
      "Early stopping at epoch 30 (best val_loss=0.08238)\n"
     ]
    }
   ],
   "source": [
    "max_epochs = 500\n",
    "patience = 20\n",
    "best_val_loss = np.inf\n",
    "epochs_no_improve = 0\n",
    "best_state = None\n",
    "\n",
    "for epoch in range(1, max_epochs + 1):\n",
    "    # Training\n",
    "    model.train()\n",
    "    running_loss = 0.0\n",
    "    for xb, yb in train_loader:\n",
    "        optimizer.zero_grad()\n",
    "        preds = model(xb)\n",
    "        loss = criterion(preds, yb)\n",
    "        loss.backward()\n",
    "        optimizer.step()\n",
    "        running_loss += loss.item()\n",
    "    train_loss = running_loss / len(train_loader)\n",
    "\n",
    "    # Validation\n",
    "    model.eval()\n",
    "    with torch.no_grad():\n",
    "        val_preds = model(X_test_t)\n",
    "        val_loss = criterion(val_preds, y_test_t).item()\n",
    "\n",
    "    # Scheduler step\n",
    "    scheduler.step(val_loss)\n",
    "\n",
    "    # Early stopping\n",
    "    if val_loss < best_val_loss - 1e-5:\n",
    "        best_val_loss = val_loss\n",
    "        epochs_no_improve = 0\n",
    "        best_state = {k: v.cpu().clone() for k, v in model.state_dict().items()}\n",
    "    else:\n",
    "        epochs_no_improve += 1\n",
    "\n",
    "    # Print progress\n",
    "    current_lr = scheduler.get_last_lr()[0]\n",
    "    if epoch % 20 == 0 or epochs_no_improve == 0:\n",
    "        print(f\"Epoch {epoch:4d} | Train Loss: {train_loss:.5f} | Val Loss: {val_loss:.5f} | LR: {current_lr:.6f}\")\n",
    "\n",
    "    if epochs_no_improve >= patience:\n",
    "        print(f\"Early stopping at epoch {epoch} (best val_loss={best_val_loss:.5f})\")\n",
    "        break"
   ]
  },
  {
   "cell_type": "code",
   "execution_count": 69,
   "id": "82ee3c42",
   "metadata": {},
   "outputs": [],
   "source": [
    "# Restore best model\n",
    "if best_state is not None:\n",
    "    model.load_state_dict(best_state)"
   ]
  },
  {
   "cell_type": "markdown",
   "id": "99ddc8a8",
   "metadata": {},
   "source": [
    "# Evaluation"
   ]
  },
  {
   "cell_type": "code",
   "execution_count": 70,
   "id": "c8e245c9",
   "metadata": {},
   "outputs": [],
   "source": [
    "model.eval()\n",
    "with torch.no_grad():\n",
    "    y_pred_scaled = model(X_test_t)\n",
    "    y_pred = scaler_y.inverse_transform(y_pred_scaled.numpy())\n",
    "    y_test_orig = scaler_y.inverse_transform(y_test_t.numpy())\n"
   ]
  },
  {
   "cell_type": "markdown",
   "id": "a2f84f2b",
   "metadata": {},
   "source": [
    "# Mean Absolute Error and R2 Score"
   ]
  },
  {
   "cell_type": "code",
   "execution_count": 74,
   "id": "e8e11d4e",
   "metadata": {},
   "outputs": [
    {
     "name": "stdout",
     "output_type": "stream",
     "text": [
      "MAE: 8,707.00\n",
      "R² Score: 0.9181\n"
     ]
    }
   ],
   "source": [
    "mae = mean_absolute_error(y_test_orig, y_pred)\n",
    "r2 = r2_score(y_test_orig, y_pred)\n",
    "print(f\"MAE: {mae:,.2f}\")\n",
    "print(f\"R² Score: {r2:.4f}\")"
   ]
  },
  {
   "cell_type": "markdown",
   "id": "9183916d",
   "metadata": {},
   "source": [
    "# Actual and Predicted Prices"
   ]
  },
  {
   "cell_type": "code",
   "execution_count": 71,
   "id": "fa20f283",
   "metadata": {},
   "outputs": [
    {
     "name": "stdout",
     "output_type": "stream",
     "text": [
      "   Actual Price  Predicted Price\n",
      "0      135400.0    120904.460938\n",
      "1      100700.0    120271.750000\n",
      "2      112200.0    116916.296875\n",
      "3      166100.0    157998.187500\n",
      "4      192100.0    193395.187500\n",
      "5      133100.0    126743.265625\n",
      "6      191700.0    183894.609375\n",
      "7      103400.0    101458.171875\n",
      "8       61200.0     79270.187500\n",
      "9      138600.0    119669.718750\n"
     ]
    }
   ],
   "source": [
    "results_df = pd.DataFrame({\n",
    "    \"Actual Price\": y_test_orig.flatten(),\n",
    "    \"Predicted Price\": y_pred.flatten()\n",
    "})\n",
    "\n",
    "print(results_df.head(10))"
   ]
  },
  {
   "cell_type": "markdown",
   "id": "def1d6d9",
   "metadata": {},
   "source": [
    "# Wrap Model in a Function"
   ]
  },
  {
   "cell_type": "code",
   "execution_count": 79,
   "id": "7b9c7f59",
   "metadata": {},
   "outputs": [],
   "source": [
    "def predict_house_price(area_sqft, bedrooms, age_years, model, scaler_X, scaler_y):\n",
    "    # Create input array\n",
    "    X_new = np.array([[area_sqft, bedrooms, age_years]])\n",
    "    \n",
    "    # Scale features\n",
    "    X_scaled = scaler_X.transform(X_new)\n",
    "    \n",
    "    # Convert to tensor\n",
    "    X_t = torch.tensor(X_scaled, dtype=torch.float32)\n",
    "    \n",
    "    # Model prediction\n",
    "    model.eval()\n",
    "    with torch.no_grad():\n",
    "        y_scaled_pred = model(X_t).numpy()\n",
    "    \n",
    "    # Inverse scale to original price\n",
    "    price_pred = scaler_y.inverse_transform(y_scaled_pred)\n",
    "    \n",
    "    return float(price_pred[0, 0])\n"
   ]
  },
  {
   "cell_type": "markdown",
   "id": "398dbda7",
   "metadata": {},
   "source": [
    "# Test Function"
   ]
  },
  {
   "cell_type": "code",
   "execution_count": 81,
   "id": "664d85d5",
   "metadata": {},
   "outputs": [
    {
     "name": "stdout",
     "output_type": "stream",
     "text": [
      "Predicted house price: 133,209.30\n"
     ]
    }
   ],
   "source": [
    "predicted_price = predict_house_price(1660, 6, 24, model, scaler_X, scaler_y)\n",
    "print(f\"Predicted house price: {predicted_price:,.2f}\")"
   ]
  }
 ],
 "metadata": {
  "kernelspec": {
   "display_name": "pytorch_env",
   "language": "python",
   "name": "python3"
  },
  "language_info": {
   "codemirror_mode": {
    "name": "ipython",
    "version": 3
   },
   "file_extension": ".py",
   "mimetype": "text/x-python",
   "name": "python",
   "nbconvert_exporter": "python",
   "pygments_lexer": "ipython3",
   "version": "3.10.18"
  }
 },
 "nbformat": 4,
 "nbformat_minor": 5
}
