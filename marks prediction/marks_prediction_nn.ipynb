{
 "cells": [
  {
   "cell_type": "code",
   "execution_count": 2,
   "id": "ce168d82",
   "metadata": {},
   "outputs": [],
   "source": [
    "import pandas as pd\n",
    "\n",
    "import torch\n",
    "from torch.utils.data import TensorDataset,  DataLoader\n",
    "import torch.nn as nn\n",
    "import torch.nn.functional as F\n",
    "\n"
   ]
  },
  {
   "cell_type": "code",
   "execution_count": 3,
   "id": "c50409e0",
   "metadata": {},
   "outputs": [
    {
     "name": "stdout",
     "output_type": "stream",
     "text": [
      "tensor([[ 5.1200],\n",
      "        [11.4600],\n",
      "        [ 9.0500],\n",
      "        [ 7.5900],\n",
      "        [ 2.7200],\n",
      "        [ 2.7200],\n",
      "        [ 1.6400],\n",
      "        [10.5300],\n",
      "        [ 7.6100],\n",
      "        [ 8.7900]]) tensor([[44.4100],\n",
      "        [90.7200],\n",
      "        [78.8400],\n",
      "        [67.5300],\n",
      "        [25.8900],\n",
      "        [28.4900],\n",
      "        [18.1000],\n",
      "        [91.7800],\n",
      "        [64.3500],\n",
      "        [66.4000]])\n"
     ]
    }
   ],
   "source": [
    "df = pd.read_csv('../data/student_scores.csv')\n",
    "\n",
    "inputs = torch.tensor(df['hours'].values, dtype=torch.float32).view(-1, 1)\n",
    "targets = torch.tensor(df['marks'].values, dtype=torch.float32).view(-1, 1)\n",
    "\n",
    "print(inputs[:10], targets[:10])"
   ]
  },
  {
   "cell_type": "code",
   "execution_count": null,
   "id": "20635189",
   "metadata": {},
   "outputs": [
    {
     "data": {
      "text/plain": [
       "(tensor([[ 5.1200],\n",
       "         [11.4600],\n",
       "         [ 9.0500],\n",
       "         [ 7.5900],\n",
       "         [ 2.7200],\n",
       "         [ 2.7200],\n",
       "         [ 1.6400],\n",
       "         [10.5300],\n",
       "         [ 7.6100],\n",
       "         [ 8.7900]]),\n",
       " tensor([[44.4100],\n",
       "         [90.7200],\n",
       "         [78.8400],\n",
       "         [67.5300],\n",
       "         [25.8900],\n",
       "         [28.4900],\n",
       "         [18.1000],\n",
       "         [91.7800],\n",
       "         [64.3500],\n",
       "         [66.4000]]))"
      ]
     },
     "execution_count": 4,
     "metadata": {},
     "output_type": "execute_result"
    }
   ],
   "source": [
    "# Create a TensorDataset from the input and target tensors\n",
    "train_ds = TensorDataset(inputs, targets)\n",
    "\n",
    "train_ds[:10]"
   ]
  },
  {
   "cell_type": "code",
   "execution_count": null,
   "id": "2630c213",
   "metadata": {},
   "outputs": [],
   "source": [
    "# Create a DataLoader for batching and shuffling the training data\n",
    "batch_size = 32\n",
    "train_dl = DataLoader(train_ds, batch_size=batch_size, shuffle=True)"
   ]
  },
  {
   "cell_type": "code",
   "execution_count": null,
   "id": "46bf9845",
   "metadata": {},
   "outputs": [],
   "source": [
    "# Initialize the model, loss function, and optimizer\n",
    "model = nn.Linear(1, 1)\n",
    "loss_fn = F.mse_loss\n",
    "optimizer = torch.optim.SGD(model.parameters(), lr=1e-5)"
   ]
  },
  {
   "cell_type": "code",
   "execution_count": null,
   "id": "3031e311",
   "metadata": {},
   "outputs": [
    {
     "name": "stdout",
     "output_type": "stream",
     "text": [
      "Epoch 100, Loss: 2211.955078125\n",
      "Epoch 200, Loss: 2517.49951171875\n",
      "Epoch 300, Loss: 2880.910888671875\n",
      "Epoch 400, Loss: 1566.5877685546875\n",
      "Epoch 500, Loss: 2959.923828125\n",
      "Epoch 600, Loss: 3920.9873046875\n",
      "Epoch 700, Loss: 4147.8671875\n",
      "Epoch 800, Loss: 2669.5390625\n",
      "Epoch 900, Loss: 3328.4677734375\n",
      "Epoch 1000, Loss: 5582.5830078125\n"
     ]
    }
   ],
   "source": [
    "# Train the model using mini-batch gradient descent\n",
    "epochs = 1000\n",
    "for epoch in range(epochs):\n",
    "    for xb, yb in train_dl:\n",
    "        pred = model(xb)\n",
    "        loss = loss_fn(pred, yb) \n",
    "        \n",
    "        loss.backward()\n",
    "        optimizer.zero_grad()\n",
    "        optimizer.step()\n",
    "        \n",
    "    if (epoch+1) % 100 == 0:\n",
    "        print(f'Epoch {epoch+1}, Loss: {loss.item()}')"
   ]
  },
  {
   "cell_type": "code",
   "execution_count": 8,
   "id": "05de2691",
   "metadata": {},
   "outputs": [
    {
     "data": {
      "text/plain": [
       "tensor([[2.3490],\n",
       "        [5.2752],\n",
       "        [4.1629],\n",
       "        [3.4890],\n",
       "        [1.2413],\n",
       "        [1.2413],\n",
       "        [0.7429],\n",
       "        [4.8459],\n",
       "        [3.4982],\n",
       "        [4.0429]], grad_fn=<SliceBackward0>)"
      ]
     },
     "execution_count": 8,
     "metadata": {},
     "output_type": "execute_result"
    }
   ],
   "source": [
    "preds = model(inputs)\n",
    "preds[:10]"
   ]
  },
  {
   "cell_type": "code",
   "execution_count": 9,
   "id": "624a91b3",
   "metadata": {},
   "outputs": [
    {
     "data": {
      "text/plain": [
       "tensor([[44.4100],\n",
       "        [90.7200],\n",
       "        [78.8400],\n",
       "        [67.5300],\n",
       "        [25.8900],\n",
       "        [28.4900],\n",
       "        [18.1000],\n",
       "        [91.7800],\n",
       "        [64.3500],\n",
       "        [66.4000]])"
      ]
     },
     "execution_count": 9,
     "metadata": {},
     "output_type": "execute_result"
    }
   ],
   "source": [
    "targets[:10]"
   ]
  }
 ],
 "metadata": {
  "kernelspec": {
   "display_name": "pytorch_env",
   "language": "python",
   "name": "python3"
  },
  "language_info": {
   "codemirror_mode": {
    "name": "ipython",
    "version": 3
   },
   "file_extension": ".py",
   "mimetype": "text/x-python",
   "name": "python",
   "nbconvert_exporter": "python",
   "pygments_lexer": "ipython3",
   "version": "3.10.18"
  }
 },
 "nbformat": 4,
 "nbformat_minor": 5
}
