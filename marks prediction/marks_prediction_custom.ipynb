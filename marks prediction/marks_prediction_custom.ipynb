{
 "cells": [
  {
   "cell_type": "code",
   "execution_count": 1,
   "id": "1c6b9ac4",
   "metadata": {},
   "outputs": [],
   "source": [
    "import torch\n",
    "import pandas as pd"
   ]
  },
  {
   "cell_type": "code",
   "execution_count": null,
   "id": "c0613fac",
   "metadata": {},
   "outputs": [
    {
     "data": {
      "text/plain": [
       "[tensor([[ 5.1200],\n",
       "         [11.4600],\n",
       "         [ 9.0500],\n",
       "         [ 7.5900],\n",
       "         [ 2.7200],\n",
       "         [ 2.7200],\n",
       "         [ 1.6400],\n",
       "         [10.5300],\n",
       "         [ 7.6100],\n",
       "         [ 8.7900]]),\n",
       " tensor([[44.4100],\n",
       "         [90.7200],\n",
       "         [78.8400],\n",
       "         [67.5300],\n",
       "         [25.8900],\n",
       "         [28.4900],\n",
       "         [18.1000],\n",
       "         [91.7800],\n",
       "         [64.3500],\n",
       "         [66.4000]])]"
      ]
     },
     "execution_count": 2,
     "metadata": {},
     "output_type": "execute_result"
    }
   ],
   "source": [
    "\n",
    "df = pd.read_csv('../data/student_scores.csv')  \n",
    "\n",
    "inputs = torch.tensor(df['hours'].values, dtype=torch.float32).view(-1, 1)\n",
    "targets = torch.tensor(df['marks'].values, dtype=torch.float32).view(-1, 1)\n",
    "\n",
    "\n",
    "[inputs[:10], targets[:10]]"
   ]
  },
  {
   "cell_type": "code",
   "execution_count": 3,
   "id": "ebbd8f9a",
   "metadata": {},
   "outputs": [
    {
     "name": "stdout",
     "output_type": "stream",
     "text": [
      "tensor([[0.6349]], requires_grad=True)\n",
      "tensor([0.6115], requires_grad=True)\n"
     ]
    }
   ],
   "source": [
    "w = torch.randn(1, 1, requires_grad=True)\n",
    "b = torch.randn(1, requires_grad=True)\n",
    "\n",
    "print(w)\n",
    "print(b)"
   ]
  },
  {
   "cell_type": "code",
   "execution_count": null,
   "id": "a3bca73c",
   "metadata": {},
   "outputs": [],
   "source": [
    "# Define the Linear Regression model\n",
    "def model(x):\n",
    "    return x @ w + b"
   ]
  },
  {
   "cell_type": "code",
   "execution_count": 5,
   "id": "e937c2f4",
   "metadata": {},
   "outputs": [
    {
     "data": {
      "text/plain": [
       "tensor([[3.8624],\n",
       "        [7.8879],\n",
       "        [6.3577],\n",
       "        [5.4307],\n",
       "        [2.3385],\n",
       "        [2.3385],\n",
       "        [1.6528],\n",
       "        [7.2974],\n",
       "        [5.4434],\n",
       "        [6.1926]], grad_fn=<SliceBackward0>)"
      ]
     },
     "execution_count": 5,
     "metadata": {},
     "output_type": "execute_result"
    }
   ],
   "source": [
    "preds = model(inputs)\n",
    "\n",
    "preds[:10]"
   ]
  },
  {
   "cell_type": "code",
   "execution_count": 6,
   "id": "b93d7f97",
   "metadata": {},
   "outputs": [
    {
     "name": "stdout",
     "output_type": "stream",
     "text": [
      "tensor([[44.4100],\n",
      "        [90.7200],\n",
      "        [78.8400],\n",
      "        [67.5300],\n",
      "        [25.8900],\n",
      "        [28.4900],\n",
      "        [18.1000],\n",
      "        [91.7800],\n",
      "        [64.3500],\n",
      "        [66.4000]])\n"
     ]
    }
   ],
   "source": [
    "print(targets[:10])"
   ]
  },
  {
   "cell_type": "code",
   "execution_count": null,
   "id": "fb533b8f",
   "metadata": {},
   "outputs": [
    {
     "name": "stdout",
     "output_type": "stream",
     "text": [
      "tensor(3146.9197, grad_fn=<DivBackward0>)\n"
     ]
    }
   ],
   "source": [
    "# Mean Squared Error (MSE) loss function\n",
    "def mse(preds, targets):\n",
    "    diff = preds - targets\n",
    "    return torch.sum(diff * diff) / diff.numel()\n",
    "\n",
    "loss = mse(preds, targets)\n",
    "print(loss)"
   ]
  },
  {
   "cell_type": "code",
   "execution_count": null,
   "id": "689a67c7",
   "metadata": {},
   "outputs": [],
   "source": [
    "# Compute gradients\n",
    "loss.backward()"
   ]
  },
  {
   "cell_type": "code",
   "execution_count": 9,
   "id": "a58df4f5",
   "metadata": {},
   "outputs": [
    {
     "name": "stdout",
     "output_type": "stream",
     "text": [
      "tensor([[0.6349]], requires_grad=True)\n",
      "tensor([[-799.6608]])\n"
     ]
    }
   ],
   "source": [
    "print(w)\n",
    "print(w.grad)"
   ]
  },
  {
   "cell_type": "code",
   "execution_count": 10,
   "id": "4bce4cee",
   "metadata": {},
   "outputs": [
    {
     "data": {
      "text/plain": [
       "tensor([0.])"
      ]
     },
     "execution_count": 10,
     "metadata": {},
     "output_type": "execute_result"
    }
   ],
   "source": [
    "w.grad.zero_()\n",
    "b.grad.zero_()"
   ]
  },
  {
   "cell_type": "code",
   "execution_count": null,
   "id": "773376d2",
   "metadata": {},
   "outputs": [],
   "source": [
    "# Update the weights using gradient descent\n",
    "with torch.no_grad():\n",
    "    w -= 1e-5 * w.grad\n",
    "    b -= 1e-5 * b.grad\n",
    "    w.grad.zero_()\n",
    "    b.grad.zero_()"
   ]
  },
  {
   "cell_type": "code",
   "execution_count": 12,
   "id": "2dfac1e4",
   "metadata": {},
   "outputs": [
    {
     "name": "stdout",
     "output_type": "stream",
     "text": [
      "tensor(3146.9197, grad_fn=<DivBackward0>)\n"
     ]
    }
   ],
   "source": [
    "preds = model(inputs)\n",
    "loss = mse(preds, targets)\n",
    "print(loss)"
   ]
  },
  {
   "cell_type": "code",
   "execution_count": null,
   "id": "d9d693ad",
   "metadata": {},
   "outputs": [],
   "source": [
    "#  Train the model for 1000 iterations\n",
    "for i in range(1000):\n",
    "    preds = model(inputs)\n",
    "    loss = mse(preds, targets)\n",
    "    loss.backward()\n",
    "    with torch.no_grad():\n",
    "        w -= w.grad * 1e-5\n",
    "        b -= b.grad * 1e-5\n",
    "        w.grad.zero_()\n",
    "        b.grad.zero_()"
   ]
  },
  {
   "cell_type": "code",
   "execution_count": 301,
   "id": "e220ebc5",
   "metadata": {},
   "outputs": [
    {
     "name": "stdout",
     "output_type": "stream",
     "text": [
      "tensor(23.5619, grad_fn=<DivBackward0>)\n"
     ]
    }
   ],
   "source": [
    "preds = model(inputs)\n",
    "loss = mse(preds, targets)\n",
    "print(loss)"
   ]
  },
  {
   "cell_type": "code",
   "execution_count": 302,
   "id": "75191887",
   "metadata": {},
   "outputs": [
    {
     "data": {
      "text/plain": [
       "tensor([[44.1143],\n",
       "        [97.0927],\n",
       "        [76.9542],\n",
       "        [64.7541],\n",
       "        [24.0593],\n",
       "        [24.0593],\n",
       "        [15.0346],\n",
       "        [89.3214],\n",
       "        [64.9213],\n",
       "        [74.7816]], grad_fn=<SliceBackward0>)"
      ]
     },
     "execution_count": 302,
     "metadata": {},
     "output_type": "execute_result"
    }
   ],
   "source": [
    "preds[:10]"
   ]
  },
  {
   "cell_type": "code",
   "execution_count": 16,
   "id": "c24934f1",
   "metadata": {},
   "outputs": [
    {
     "data": {
      "text/plain": [
       "tensor([[44.4100],\n",
       "        [90.7200],\n",
       "        [78.8400],\n",
       "        [67.5300],\n",
       "        [25.8900],\n",
       "        [28.4900],\n",
       "        [18.1000],\n",
       "        [91.7800],\n",
       "        [64.3500],\n",
       "        [66.4000]])"
      ]
     },
     "execution_count": 16,
     "metadata": {},
     "output_type": "execute_result"
    }
   ],
   "source": [
    "targets[:10]"
   ]
  }
 ],
 "metadata": {
  "kernelspec": {
   "display_name": "pytorch_env",
   "language": "python",
   "name": "python3"
  },
  "language_info": {
   "codemirror_mode": {
    "name": "ipython",
    "version": 3
   },
   "file_extension": ".py",
   "mimetype": "text/x-python",
   "name": "python",
   "nbconvert_exporter": "python",
   "pygments_lexer": "ipython3",
   "version": "3.10.18"
  }
 },
 "nbformat": 4,
 "nbformat_minor": 5
}
